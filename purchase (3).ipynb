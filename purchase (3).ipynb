{
 "cells": [
  {
   "cell_type": "markdown",
   "id": "84b89461",
   "metadata": {},
   "source": [
    "## read data from inventory"
   ]
  },
  {
   "cell_type": "code",
   "execution_count": 1,
   "id": "e07ad325",
   "metadata": {},
   "outputs": [],
   "source": [
    "import json\n",
    "\n",
    "fd = open(\"record.json\",'r')\n",
    "r = fd.read()\n",
    "fd.close()\n",
    "\n",
    "record = json.loads(r)"
   ]
  },
  {
   "cell_type": "code",
   "execution_count": 2,
   "id": "168f4fe1",
   "metadata": {},
   "outputs": [
    {
     "data": {
      "text/plain": [
       "{'10001': {'prod_name': 'School Bag',\n",
       "  'price': 2000,\n",
       "  'quantity': 50,\n",
       "  'Brand': 'Skybags',\n",
       "  'Mfg_date': '29/8/2020'},\n",
       " '10002': {'prod_name': 'Track Bag',\n",
       "  'price': 500,\n",
       "  'quantity': 60,\n",
       "  'Brand': 'Puma',\n",
       "  'Mfg_date': '9/5/2021'},\n",
       " '10003': {'prod_name': 'Gym Bag',\n",
       "  'price': 300,\n",
       "  'quantity': 40,\n",
       "  'Brand': 'American Tourist',\n",
       "  'Mfg_date': '2/2/2021'},\n",
       " '10004': {'prod_name': 'Travel Bag',\n",
       "  'price': 900,\n",
       "  'quantity': 100,\n",
       "  'Brand': 'Adidas',\n",
       "  'Mfg_date': '19/4/2020'},\n",
       " '10005': {'prod_name': 'Hand Bag',\n",
       "  'price': 400,\n",
       "  'quantity': 200,\n",
       "  'Brand': 'Adidas',\n",
       "  'Mfg_date': '1/7/2020'},\n",
       " '10006': {'prod_name': 'Laptop Bag',\n",
       "  'price': 800,\n",
       "  'quantity': 100,\n",
       "  'Brand': 'Apple',\n",
       "  'Mfg_date': '20/3/2020'},\n",
       " '10007': {'prod_name': 'Sports Bag',\n",
       "  'price': 200,\n",
       "  'quantity': 250,\n",
       "  'Brand': 'Puma',\n",
       "  'Mfg_date': '19/7/2021'},\n",
       " '10008': {'prod_name': ' Ball pen',\n",
       "  'price': 50,\n",
       "  'quantity': 200,\n",
       "  'Brand': 'Soccer',\n",
       "  'Mfg_date': '27/9/2020'},\n",
       " '10009': {'prod_name': 'Pencil',\n",
       "  'price': 25,\n",
       "  'quantity': 200,\n",
       "  'Brand': 'Adidas',\n",
       "  'Mfg_date': '19/4/2020'},\n",
       " '10010': {'prod_name': 'Lead pencil',\n",
       "  'price': 40,\n",
       "  'quantity': 100,\n",
       "  'Brand': 'Camel',\n",
       "  'Mfg_date': '11/3/2021'},\n",
       " '10011': {'prod_name': 'Rular',\n",
       "  'price': 10,\n",
       "  'quantity': 80,\n",
       "  'Brand': 'Camlin',\n",
       "  'Mfg_date': '29/8/2021'},\n",
       " '10012': {'prod_name': 'Scissors',\n",
       "  'price': 80,\n",
       "  'quantity': 50,\n",
       "  'Brand': 'Classmate',\n",
       "  'Mfg_date': '9/2/2021'},\n",
       " '10013': {'prod_name': 'Tape measure',\n",
       "  'price': 100,\n",
       "  'quantity': 20,\n",
       "  'Brand': 'Cello',\n",
       "  'Mfg_date': '30/5/2021'},\n",
       " '10014': {'prod_name': 'Campass box',\n",
       "  'price': 200,\n",
       "  'quantity': 30,\n",
       "  'Brand': 'Classmate',\n",
       "  'Mfg_date': '29/6/2021'},\n",
       " '10015': {'prod_name': 'Water bottle',\n",
       "  'price': 150,\n",
       "  'quantity': 40,\n",
       "  'Brand': 'Milton',\n",
       "  'Mfg_date': '17/11/2020'},\n",
       " '10016': {'prod_name': 'Tiffin box',\n",
       "  'price': 200,\n",
       "  'quantity': 50,\n",
       "  'Brand': 'Milton',\n",
       "  'Mfg_date': '14/6/2020'},\n",
       " '10017': {'prod_name': 'Drawing book',\n",
       "  'price': 90,\n",
       "  'quantity': 30,\n",
       "  'Brand': 'Funa',\n",
       "  'Mfg_date': '19/8/2021'},\n",
       " '10018': {'prod_name': 'Milk chocalate',\n",
       "  'price': 150,\n",
       "  'quantity': 50,\n",
       "  'Brand': 'Dairy milk',\n",
       "  'Mfg_date': '20/6/2021'},\n",
       " '10019': {'prod_name': 'Scolar Book',\n",
       "  'price': 60,\n",
       "  'quantity': 200,\n",
       "  'Brand': 'Jupiter',\n",
       "  'Mfg_date': '4/8/2021'},\n",
       " '10020': {'prod_name': 'Brush',\n",
       "  'price': 30,\n",
       "  'quantity': 50,\n",
       "  'Brand': 'camlin',\n",
       "  'Mfg_date': '29/4/2021'},\n",
       " '10021': {'prod_name': 'Sketch pen',\n",
       "  'price': 20,\n",
       "  'quantity': 40,\n",
       "  'Brand': 'Cello',\n",
       "  'Mfg_date': '11/6/2021'},\n",
       " '10022': {'prod_name': 'OilPaint colors',\n",
       "  'price': 200,\n",
       "  'quantity': 60,\n",
       "  'Brand': 'Funa',\n",
       "  'Mfg_date': '21/5/2021'},\n",
       " '10023': {'prod_name': 'Color Pencil',\n",
       "  'price': 20,\n",
       "  'quantity': 40,\n",
       "  'Brand': 'Classmate',\n",
       "  'Mfg_date': '8/5/2021'},\n",
       " '10024': {'prod_name': 'Story book',\n",
       "  'price': 100,\n",
       "  'quantity': 10,\n",
       "  'Brand': 'Oxford',\n",
       "  'Mfg_date': '15/7/2021'},\n",
       " '10025': {'prod_name': 'Black Board',\n",
       "  'price': 300,\n",
       "  'quantity': 30,\n",
       "  'Brand': 'Camlin',\n",
       "  'Mfg_date': '23/4/2021'},\n",
       " '10026': {'prod_name': 'Slate',\n",
       "  'price': 100,\n",
       "  'quantity': 36,\n",
       "  'Brand': 'Usha',\n",
       "  'Mfg_date': '19/4/2020'},\n",
       " '10027': {'prod_name': 'White Board',\n",
       "  'price': 300,\n",
       "  'quantity': 10,\n",
       "  'Brand': 'Classmate',\n",
       "  'Mfg_date': '1/9/2020'},\n",
       " '10028': {'prod_name': 'Marker',\n",
       "  'price': 50,\n",
       "  'quantity': 75,\n",
       "  'Brand': 'Montex',\n",
       "  'Mfg_date': '17/10/2020'},\n",
       " '10029': {'prod_name': 'Ink Bottle',\n",
       "  'price': 40,\n",
       "  'quantity': 36,\n",
       "  'Brand': 'Cello',\n",
       "  'Mfg_date': '20/11/2020'},\n",
       " '10030': {'prod_name': 'Umbrella',\n",
       "  'price': 350,\n",
       "  'quantity': 44,\n",
       "  'Brand': 'Adidas',\n",
       "  'Mfg_date': '25/3/2021'},\n",
       " '10031': {'prod_name': 'Whitener',\n",
       "  'price': 40,\n",
       "  'quantity': 30,\n",
       "  'Brand': 'Camlin',\n",
       "  'Mfg_date': '15/7/2021'}}"
      ]
     },
     "execution_count": 2,
     "metadata": {},
     "output_type": "execute_result"
    }
   ],
   "source": [
    "record"
   ]
  },
  {
   "cell_type": "markdown",
   "id": "ba927449",
   "metadata": {},
   "source": [
    "## purchase"
   ]
  },
  {
   "cell_type": "code",
   "execution_count": 186,
   "id": "1c655d93",
   "metadata": {},
   "outputs": [
    {
     "name": "stdout",
     "output_type": "stream",
     "text": [
      "What you want to purchase?\n",
      "Your Name :sonali\n",
      "-----------------------------\n",
      " Date and Time : Sun Sep  5 19:25:25 2021\n",
      "-----------------------------\n",
      "Enter the product_Id: 11111\n",
      "Enter the quantity: 1\n",
      "-----------------------------\n"
     ]
    },
    {
     "ename": "KeyError",
     "evalue": "'11111'",
     "output_type": "error",
     "traceback": [
      "\u001b[1;31m---------------------------------------------------------------------------\u001b[0m",
      "\u001b[1;31mKeyError\u001b[0m                                  Traceback (most recent call last)",
      "\u001b[1;32m<ipython-input-186-85956206bbef>\u001b[0m in \u001b[0;36m<module>\u001b[1;34m\u001b[0m\n\u001b[0;32m     11\u001b[0m \u001b[0mprint\u001b[0m\u001b[1;33m(\u001b[0m\u001b[1;34m\"-----------------------------\"\u001b[0m\u001b[1;33m)\u001b[0m\u001b[1;33m\u001b[0m\u001b[1;33m\u001b[0m\u001b[0m\n\u001b[0;32m     12\u001b[0m \u001b[1;33m\u001b[0m\u001b[0m\n\u001b[1;32m---> 13\u001b[1;33m \u001b[0mprint\u001b[0m\u001b[1;33m(\u001b[0m\u001b[1;34m\"Product name: \"\u001b[0m\u001b[1;33m,\u001b[0m \u001b[0mrecord\u001b[0m\u001b[1;33m[\u001b[0m\u001b[0mui_prod\u001b[0m\u001b[1;33m]\u001b[0m\u001b[1;33m[\u001b[0m\u001b[1;34m'prod_name'\u001b[0m\u001b[1;33m]\u001b[0m\u001b[1;33m)\u001b[0m\u001b[1;33m,\u001b[0m\u001b[1;33m\u001b[0m\u001b[1;33m\u001b[0m\u001b[0m\n\u001b[0m\u001b[0;32m     14\u001b[0m \u001b[0mprint\u001b[0m\u001b[1;33m(\u001b[0m\u001b[1;34m\"Price: \"\u001b[0m\u001b[1;33m,\u001b[0m \u001b[0mrecord\u001b[0m\u001b[1;33m[\u001b[0m\u001b[0mui_prod\u001b[0m\u001b[1;33m]\u001b[0m\u001b[1;33m[\u001b[0m\u001b[1;34m'price'\u001b[0m\u001b[1;33m]\u001b[0m\u001b[1;33m)\u001b[0m\u001b[1;33m\u001b[0m\u001b[1;33m\u001b[0m\u001b[0m\n\u001b[0;32m     15\u001b[0m \u001b[0mprint\u001b[0m\u001b[1;33m(\u001b[0m\u001b[1;34m\"******************************\"\u001b[0m\u001b[1;33m)\u001b[0m\u001b[1;33m\u001b[0m\u001b[1;33m\u001b[0m\u001b[0m\n",
      "\u001b[1;31mKeyError\u001b[0m: '11111'"
     ]
    }
   ],
   "source": [
    " print(\"What you want to purchase?\")\n",
    "Name = str(input(\"Your Name :\"))\n",
    "print(\"-----------------------------\")\n",
    "import time\n",
    "localtime = time.asctime( time.localtime(time.time()) )\n",
    "print (\" Date and Time :\", localtime)\n",
    "print(\"-----------------------------\")\n",
    "ui_prod  = str(input(\"Enter the product_Id: \"))\n",
    "ui_quant = int(input(\"Enter the quantity: \"))\n",
    "print(\"-----------------------------\")\n",
    "\n",
    "print(\"Product name: \", record[ui_prod]['prod_name']),\n",
    "print(\"Price: \", record[ui_prod]['price'])\n",
    "print(\"******************************\")\n",
    "print(\"Billing Amount: \", record[ui_prod]['price'] * ui_quant)\n",
    "print(\"******************************\")\n",
    "record[ui_prod]['quantity'] = record[ui_prod]['quantity'] - ui_quant\n",
    "\n",
    "                            "
   ]
  },
  {
   "cell_type": "markdown",
   "id": "b4dae968",
   "metadata": {},
   "source": [
    "# update inventory after purchase"
   ]
  },
  {
   "cell_type": "code",
   "execution_count": null,
   "id": "d10fe9cb",
   "metadata": {},
   "outputs": [],
   "source": [
    "js = json.dumps(records)\n",
    "\n",
    "fd = open(\"record.json\",'w')\n",
    "fd.write(js)\n",
    "fd.close()"
   ]
  },
  {
   "cell_type": "markdown",
   "id": "7745d8c2",
   "metadata": {},
   "source": [
    "## sales json"
   ]
  },
  {
   "cell_type": "code",
   "execution_count": 82,
   "id": "129c1424",
   "metadata": {},
   "outputs": [
    {
     "data": {
      "text/plain": [
       "{'product': '10001', 'quantity': 1, 'Amount': 2000}"
      ]
     },
     "execution_count": 82,
     "metadata": {},
     "output_type": "execute_result"
    }
   ],
   "source": [
    "{'product' : ui_prod, 'quantity' : ui_quant, 'Amount': record[ui_prod]['price'] * ui_quant}\n"
   ]
  },
  {
   "cell_type": "code",
   "execution_count": 84,
   "id": "eb0e0467",
   "metadata": {},
   "outputs": [],
   "source": [
    "sales = {1 : {'product' : ui_prod, 'qn' : ui_quant, 'Amount': record[ui_prod]['price'] * ui_quant},\n",
    "         2 : {'product' : ui_prod, 'qn' : ui_quant, 'Amount': record[ui_prod]['price'] * ui_quant},\n",
    "         3 : {'product' : ui_prod, 'qn' : ui_quant, 'Amount': record[ui_prod]['price'] * ui_quant}}"
   ]
  },
  {
   "cell_type": "code",
   "execution_count": 85,
   "id": "d930a514",
   "metadata": {},
   "outputs": [
    {
     "data": {
      "text/plain": [
       "{1: {'product': '10001', 'qn': 1, 'Amount': 2000},\n",
       " 2: {'product': '10001', 'qn': 1, 'Amount': 2000},\n",
       " 3: {'product': '10001', 'qn': 1, 'Amount': 2000}}"
      ]
     },
     "execution_count": 85,
     "metadata": {},
     "output_type": "execute_result"
    }
   ],
   "source": [
    "sales"
   ]
  },
  {
   "cell_type": "code",
   "execution_count": 86,
   "id": "d2b578d5",
   "metadata": {},
   "outputs": [],
   "source": [
    "import json"
   ]
  },
  {
   "cell_type": "code",
   "execution_count": 87,
   "id": "4dc6f3ea",
   "metadata": {},
   "outputs": [],
   "source": [
    "sale = json.dumps(sales)\n"
   ]
  },
  {
   "cell_type": "code",
   "execution_count": 89,
   "id": "e0e1b5b7",
   "metadata": {},
   "outputs": [],
   "source": [
    "fd = open (\"sales.json\", 'w')\n",
    "fd.write(sale)\n",
    "fd.close()"
   ]
  },
  {
   "cell_type": "code",
   "execution_count": null,
   "id": "33d1e18f",
   "metadata": {},
   "outputs": [],
   "source": []
  },
  {
   "cell_type": "code",
   "execution_count": null,
   "id": "273eeb02",
   "metadata": {},
   "outputs": [],
   "source": []
  },
  {
   "cell_type": "code",
   "execution_count": null,
   "id": "fed9d4ec",
   "metadata": {},
   "outputs": [],
   "source": []
  }
 ],
 "metadata": {
  "kernelspec": {
   "display_name": "Python 3",
   "language": "python",
   "name": "python3"
  },
  "language_info": {
   "codemirror_mode": {
    "name": "ipython",
    "version": 3
   },
   "file_extension": ".py",
   "mimetype": "text/x-python",
   "name": "python",
   "nbconvert_exporter": "python",
   "pygments_lexer": "ipython3",
   "version": "3.8.8"
  }
 },
 "nbformat": 4,
 "nbformat_minor": 5
}
